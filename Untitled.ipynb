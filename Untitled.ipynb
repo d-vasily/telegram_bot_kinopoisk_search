{
 "cells": [
  {
   "cell_type": "code",
   "execution_count": 36,
   "id": "b20ad5cd",
   "metadata": {},
   "outputs": [
    {
     "name": "stdout",
     "output_type": "stream",
     "text": [
      "<class 'list'>\n",
      "<class 'str'>\n"
     ]
    },
    {
     "data": {
      "text/plain": [
       "True"
      ]
     },
     "execution_count": 36,
     "metadata": {},
     "output_type": "execute_result"
    }
   ],
   "source": [
    "import pandas as pd\n",
    "#creating the dataframe\n",
    "df = pd.DataFrame()\n",
    "df['date'] = ['2021-06-01', '2021-06-02', ['2021-06-03', 'asd']]\n",
    "df['calories'] = [1950, 2100, 1500]\n",
    "df['sleep hours'] = [9, 7.5, 8.2]\n",
    "df['gym'] = [True, False, False]\n",
    "print(type(df.iloc[2]['date']))\n",
    "df.to_csv('csv_test.csv', index = False)\n",
    "df1 = pd.read_csv(\"csv_test.csv\")\n",
    "print(type(df1.iloc[2]['date']))\n",
    "'a' in df1.iloc[2]['date']"
   ]
  }
 ],
 "metadata": {
  "kernelspec": {
   "display_name": "Python 3 (ipykernel)",
   "language": "python",
   "name": "python3"
  },
  "language_info": {
   "codemirror_mode": {
    "name": "ipython",
    "version": 3
   },
   "file_extension": ".py",
   "mimetype": "text/x-python",
   "name": "python",
   "nbconvert_exporter": "python",
   "pygments_lexer": "ipython3",
   "version": "3.9.7"
  }
 },
 "nbformat": 4,
 "nbformat_minor": 5
}
