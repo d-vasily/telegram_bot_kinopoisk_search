{
 "cells": [
  {
   "cell_type": "code",
   "execution_count": 1,
   "id": "65a5f28b",
   "metadata": {},
   "outputs": [],
   "source": [
    "import requests\n",
    "import re\n",
    "from random import randint\n",
    "from bs4 import BeautifulSoup\n",
    "import pandas as pd\n",
    "from selenium import webdriver"
   ]
  },
  {
   "cell_type": "code",
   "execution_count": 2,
   "id": "ad5001f5",
   "metadata": {},
   "outputs": [],
   "source": [
    "#def data_film(genre='',sort='', rating='', subscript='available_online', country='', kind=''(film/serial), page=''):\n",
    "def data_film(l):\n",
    "    l = l.split('| ')\n",
    "    url = f\"https://www.kinopoisk.ru/lists/navigator/{l[0]}/?sort={l[1]}&quick_filters=%2C{l[2]}%2C{l[3]}%2C{l[4]}%2C{l[5]}&tab=online&page={l[6]}\"\n",
    "    dr = webdriver.Chrome()\n",
    "    try:\n",
    "        dr.get(url)\n",
    "    except:\n",
    "        return ([])\n",
    "    print(url)\n",
    "    soup = BeautifulSoup(dr.page_source)\n",
    "    res = soup.find_all('div', {'class' :'desktop-seo-selection-film-item__upper-wrapper'})\n",
    "    return (res)"
   ]
  },
  {
   "cell_type": "code",
   "execution_count": 3,
   "id": "d9ac33dd",
   "metadata": {},
   "outputs": [],
   "source": [
    "def get_row(i, raw_data):\n",
    "    name = raw_data[i].find_all('p', {'class' : 'selection-film-item-meta__name'}, limit = 1)\n",
    "    if (len(name) > 0): name = name[0].text \n",
    "    else: return 0\n",
    "    \n",
    "    link = raw_data[i].find_all('a', {'class' : 'selection-film-item-meta__link'}, limit = 1)\n",
    "    if (len(link) > 0): link = 'https://www.kinopoisk.ru' + link[0].get('href') \n",
    "    else: return 0\n",
    "    \n",
    "    date = raw_data[i].find_all('p', {'class' : 'selection-film-item-meta__original-name'}, limit = 1)\n",
    "    if (len(date) > 0): date = date[0].text \n",
    "    else: return 0\n",
    "    \n",
    "    date = re.search(r'[\\d]{4}$', date)\n",
    "    if (date != None): date = date.group(0) \n",
    "    else: return 0\n",
    "    \n",
    "    x = raw_data[i].find_all('span', {'class' : 'selection-film-item-meta__meta-additional-item'}, limit = 2)\n",
    "    if (len(x) > 1): country = x[0].text; gen = x[1].text \n",
    "    else: return 0\n",
    "    \n",
    "    rating = raw_data[i].find_all('span', {'class' : r'rating__value rating__value_positive'}, limit = 1)\n",
    "    if (len(rating) == 0): rating = raw_data[i].find_all('span', {'class' : r'rating__value rating__value_neutral'}, limit = 1)\n",
    "    if (len(rating) > 0): rating = rating[0].text \n",
    "    else: return 0\n",
    "    \n",
    "    rating_count = raw_data[i].find_all('span', {'class' : 'rating__count'}, limit = 1)\n",
    "    if (len(rating_count) > 0): rating_count = rating_count[0].text \n",
    "    else: return 0\n",
    "    \n",
    "    return [name, date, country, gen, rating, rating_count, link]"
   ]
  },
  {
   "cell_type": "code",
   "execution_count": 4,
   "id": "cd904ab7",
   "metadata": {},
   "outputs": [],
   "source": [
    "def get_add_info(link):   \n",
    "    dr = webdriver.Chrome()\n",
    "    try:\n",
    "        dr.get(link)\n",
    "    except:\n",
    "        return([])\n",
    "    soup1 = BeautifulSoup(dr.page_source)\n",
    "    info = soup1.find_all('div', {'class' : 'styles_valueLight__1j0RO'}, limit = 2)\n",
    "    if (len(info) > 1): audio_track = info[0].text; subtitles = info[1].text\n",
    "    else: return 0\n",
    "    \n",
    "    description = soup1.find_all('p', {'class' : 'styles_paragraph__2Otvx'}, limit = 1)\n",
    "    if (len(description) > 0): description = description[0].text\n",
    "    else: return 0\n",
    "\n",
    "    return [audio_track, subtitles, description]"
   ]
  },
  {
   "cell_type": "code",
   "execution_count": 5,
   "id": "e7b7a998",
   "metadata": {},
   "outputs": [],
   "source": [
    "def get_ten(num, l):\n",
    "    l += str((num - 1) // 50 + 1)\n",
    "    num = (num - 1) % 50 \n",
    "    raw_data = data_film(l)\n",
    "    if (len(raw_data) == 0):\n",
    "        return (0)\n",
    "    df = pd.DataFrame(columns=['name','date','country','genre','rating','rating_count', 'link', 'audio', 'subtitles', 'description'])\n",
    "    max_ind = len(raw_data)\n",
    "    count = 0\n",
    "    while (num < max_ind and count < 10):\n",
    "        a = get_row(num , raw_data)\n",
    "        if (a):\n",
    "            a.extend([0, 0, 0])\n",
    "            df.loc[count] = a\n",
    "            count += 1\n",
    "        num += 1\n",
    "    return df    "
   ]
  },
  {
   "cell_type": "code",
   "execution_count": 62,
   "id": "b1bd3966",
   "metadata": {},
   "outputs": [],
   "source": [
    "#data_film(genre='',sort='', rating='', subscript='available_online', country='', kind=''(film/serial), page=''):\n",
    "genre = ['', 'anime', 'mystery', 'comedy', 'crime', 'adventure', 'family', 'thriller', 'horror', 'sci-fi', 'fantasy']\n",
    "sort = ['', 'popularity', 'year']\n",
    "rating = ['', 'high_rated']\n",
    "subscript= ['available_online', 'yandex_plus_subscription', 'kinopoisk_with_amediateka_subscription']\n",
    "country = ['', 'foreign', 'russian']\n",
    "kind = ['', 'films', 'serials']"
   ]
  },
  {
   "cell_type": "code",
   "execution_count": 6,
   "id": "32ff6e78",
   "metadata": {},
   "outputs": [
    {
     "name": "stdout",
     "output_type": "stream",
     "text": [
      "https://www.kinopoisk.ru/lists/navigator//?sort=&quick_filters=%2C%2Cyandex_plus_subscription%2Cforeign%2C&tab=online&page=2\n"
     ]
    }
   ],
   "source": [
    "#sort=year&quick_filters=films%2Cforeign%2Cyandex_plus_subscription\n",
    "search_param = '| | | yandex_plus_subscription| foreign| | '\n",
    "#{'genre': '', 'sort': 'year', 'rating': '', 'subscript': 'yandex_plus_subscription',\\\n",
    " #               'country': 'foreign', 'kind': 'films', 'page': ''}\n",
    "#data_film(genre='',sort='', rating='', subscript='available_online', country='', kind=''(film/serial), page=''):\n",
    "data_ten = get_ten(51, search_param)"
   ]
  },
  {
   "cell_type": "code",
   "execution_count": 10,
   "id": "30f22b6f",
   "metadata": {
    "scrolled": true
   },
   "outputs": [
    {
     "name": "stdout",
     "output_type": "stream",
     "text": [
      "name\n",
      "date\n",
      "country\n",
      "genre\n",
      "rating\n",
      "rating_count\n",
      "link\n",
      "audio\n",
      "subtitles\n",
      "description\n"
     ]
    }
   ],
   "source": [
    "for x in data_ten:\n",
    "    print(x)"
   ]
  }
 ],
 "metadata": {
  "kernelspec": {
   "display_name": "Python 3 (ipykernel)",
   "language": "python",
   "name": "python3"
  },
  "language_info": {
   "codemirror_mode": {
    "name": "ipython",
    "version": 3
   },
   "file_extension": ".py",
   "mimetype": "text/x-python",
   "name": "python",
   "nbconvert_exporter": "python",
   "pygments_lexer": "ipython3",
   "version": "3.9.7"
  }
 },
 "nbformat": 4,
 "nbformat_minor": 5
}
