{
 "cells": [
  {
   "cell_type": "code",
   "execution_count": 1,
   "id": "65a5f28b",
   "metadata": {},
   "outputs": [],
   "source": [
    "import requests\n",
    "import re\n",
    "from random import randint\n",
    "from bs4 import BeautifulSoup\n",
    "import pandas as pd\n",
    "from selenium import webdriver"
   ]
  },
  {
   "cell_type": "code",
   "execution_count": 2,
   "id": "ad5001f5",
   "metadata": {},
   "outputs": [],
   "source": [
    "#def data_film(genre='',sort='', rating='', subscript='available_online', country='', kind=''(film/serial), page=''):\n",
    "def data_film(l):\n",
    "    l = l.split('| ')\n",
    "    url = f\"https://www.kinopoisk.ru/lists/navigator/{l[0]}/?sort={l[1]}&quick_filters=%2C{l[2]}%2C{l[3]}%2C{l[4]}%2C{l[5]}&tab=online&page={l[6]}\"\n",
    "    dr = webdriver.Chrome()\n",
    "    try:\n",
    "        dr.get(url)\n",
    "    except:\n",
    "        return ([])\n",
    "    print(url)\n",
    "    soup = BeautifulSoup(dr.page_source)\n",
    "    res = soup.find_all('div', {'class' :'desktop-seo-selection-film-item__upper-wrapper'})\n",
    "    return (res)"
   ]
  },
  {
   "cell_type": "code",
   "execution_count": 3,
   "id": "d9ac33dd",
   "metadata": {},
   "outputs": [],
   "source": [
    "def get_row(i, raw_data):\n",
    "    name = raw_data[i].find_all('p', {'class' : 'selection-film-item-meta__name'}, limit = 1)\n",
    "    if (len(name) > 0): name = name[0].text \n",
    "    else: return 0\n",
    "    \n",
    "    link = raw_data[i].find_all('a', {'class' : 'selection-film-item-meta__link'}, limit = 1)\n",
    "    if (len(link) > 0): link = 'https://www.kinopoisk.ru' + link[0].get('href') \n",
    "    else: return 0\n",
    "    \n",
    "    date = raw_data[i].find_all('p', {'class' : 'selection-film-item-meta__original-name'}, limit = 1)\n",
    "    if (len(date) > 0): date = date[0].text \n",
    "    else: return 0\n",
    "    \n",
    "    date = re.search(r'[\\d]{4}$', date)\n",
    "    if (date != None): date = date.group(0) \n",
    "    else: return 0\n",
    "    \n",
    "    x = raw_data[i].find_all('span', {'class' : 'selection-film-item-meta__meta-additional-item'}, limit = 2)\n",
    "    if (len(x) > 1): country = x[0].text; gen = x[1].text \n",
    "    else: return 0\n",
    "    \n",
    "    rating = raw_data[i].find_all('span', {'class' : r'rating__value rating__value_positive'}, limit = 1)\n",
    "    if (len(rating) == 0): rating = raw_data[i].find_all('span', {'class' : r'rating__value rating__value_neutral'}, limit = 1)\n",
    "    if (len(rating) > 0): rating = rating[0].text \n",
    "    else: return 0\n",
    "    \n",
    "    rating_count = raw_data[i].find_all('span', {'class' : 'rating__count'}, limit = 1)\n",
    "    if (len(rating_count) > 0): rating_count = rating_count[0].text \n",
    "    else: return 0\n",
    "    \n",
    "    return [name, date, country, gen, rating, rating_count, link]"
   ]
  },
  {
   "cell_type": "code",
   "execution_count": 114,
   "id": "cd904ab7",
   "metadata": {},
   "outputs": [],
   "source": [
    "def get_add_info(df, name):\n",
    "    df = df.set_index('name')\n",
    "    elem = df.loc[name]\n",
    "    link = str(elem['link'])\n",
    "    dr = webdriver.Chrome()\n",
    "    try:\n",
    "        dr.get(link)\n",
    "    except:\n",
    "        return([])\n",
    "    soup1 = BeautifulSoup(dr.page_source)\n",
    "    info = soup1.find_all('div', {'class' : 'styles_valueLight__1j0RO'}, limit = 2)\n",
    "    if (len(info) > 1): audio_track = info[0].text; subtitles = info[1].text\n",
    "    else: return 0\n",
    "    \n",
    "    description = soup1.find_all('p', {'class' : 'styles_paragraph__2Otvx'}, limit = 1)\n",
    "    if (len(description) > 0): description = description[0].text\n",
    "    else: return 0\n",
    "    country = str(elem['country'])\n",
    "    date = str(elem['date'])\n",
    "    s = 'Страна:\\\\n' + country + '\\\\n\\\\n'\n",
    "    s += 'Год:\\\\n' + date + '\\\\n\\\\n'\n",
    "    s += 'Язык озвучки:\\\\n' + audio_track + '\\\\n\\\\n'\n",
    "    s += 'Субтитры:\\\\n' + subtitles + '\\\\n\\\\n'\n",
    "    s += 'Описание:\\\\n' + description\n",
    "    return s"
   ]
  },
  {
   "cell_type": "code",
   "execution_count": null,
   "id": "b5e6703e",
   "metadata": {},
   "outputs": [],
   "source": []
  },
  {
   "cell_type": "code",
   "execution_count": 115,
   "id": "ea139d79",
   "metadata": {},
   "outputs": [
    {
     "name": "stdout",
     "output_type": "stream",
     "text": [
      "Страна:\\nСША\\n\\nГод:\\n2019\\n\\nЯзык озвучки:\\nРусский, Английский\\n\\nСубтитры:\\nРусские, Английские\\n\\nОписание:\\nВ начале 1960-х Генри Форд II принимает решение улучшить имидж компании и сменить курс на производство более модных автомобилей. После неудавшейся попытки купить практически банкрота Ferrari американцы решают бросить вызов итальянским конкурентам на трассе и выиграть престижную гонку 24 часа Ле-Мана. Чтобы создать подходящую машину, компания нанимает автоконструктора Кэррола Шэлби, а тот отказывается работать без выдающегося, но, как считается, трудного в общении гонщика Кена Майлза. Вместе они принимаются за разработку впоследствии знаменитого спорткара Ford GT40.\n"
     ]
    }
   ],
   "source": [
    "s = get_add_info(df, 'Ford против Ferrari')\n",
    "print(s)"
   ]
  },
  {
   "cell_type": "code",
   "execution_count": 90,
   "id": "e7b7a998",
   "metadata": {},
   "outputs": [],
   "source": [
    "def get_ten(num, l):\n",
    "    l += str((num - 1) // 50 + 1)\n",
    "    num = (num - 1) % 50 \n",
    "    raw_data = data_film(l)\n",
    "    if (len(raw_data) == 0):\n",
    "        return (0)\n",
    "    df = pd.DataFrame(columns=['name','date','country','genre','rating','rating_count', 'link', 'audio', 'subtitles', 'description'])\n",
    "    max_ind = len(raw_data)\n",
    "    count = 0\n",
    "    while (num < max_ind and count < 10):\n",
    "        a = get_row(num , raw_data)\n",
    "        if (a):\n",
    "            a.extend([0, 0, 0])\n",
    "            df.loc[count] = a\n",
    "            count += 1\n",
    "        num += 1\n",
    "    return df"
   ]
  },
  {
   "cell_type": "code",
   "execution_count": 62,
   "id": "b1bd3966",
   "metadata": {},
   "outputs": [],
   "source": [
    "#data_film(genre='',sort='', rating='', subscript='available_online', country='', kind=''(film/serial), page=''):\n",
    "genre = ['', 'anime', 'mystery', 'comedy', 'crime', 'adventure', 'family', 'thriller', 'horror', 'sci-fi', 'fantasy']\n",
    "sort = ['', 'popularity', 'year']\n",
    "rating = ['', 'high_rated']\n",
    "subscript= ['available_online', 'yandex_plus_subscription', 'kinopoisk_with_amediateka_subscription']\n",
    "country = ['', 'foreign', 'russian']\n",
    "kind = ['', 'films', 'serials']"
   ]
  },
  {
   "cell_type": "code",
   "execution_count": 91,
   "id": "32ff6e78",
   "metadata": {},
   "outputs": [
    {
     "name": "stdout",
     "output_type": "stream",
     "text": [
      "https://www.kinopoisk.ru/lists/navigator//?sort=&quick_filters=%2C%2Cyandex_plus_subscription%2Cforeign%2C&tab=online&page=2\n"
     ]
    }
   ],
   "source": [
    "#sort=year&quick_filters=films%2Cforeign%2Cyandex_plus_subscription\n",
    "search_param = '| | | yandex_plus_subscription| foreign| | '\n",
    "#{'genre': '', 'sort': 'year', 'rating': '', 'subscript': 'yandex_plus_subscription',\\\n",
    " #               'country': 'foreign', 'kind': 'films', 'page': ''}\n",
    "#data_film(genre='',sort='', rating='', subscript='available_online', country='', kind=''(film/serial), page=''):\n",
    "df = get_ten(51, search_param)"
   ]
  },
  {
   "cell_type": "code",
   "execution_count": 92,
   "id": "0f590de1",
   "metadata": {},
   "outputs": [
    {
     "name": "stdout",
     "output_type": "stream",
     "text": [
      "<b>Ford против Ferrari</b>\\n\\nРейтинг                 -     8.2\\nКол-во оценок     -     398 140\\nЖанр                      -     биография\\n                                       спорт\\n\\n\\n\\n<b>Легенда</b>\\n\\nРейтинг                 -     7.2\\nКол-во оценок     -     387 786\\nЖанр                      -     криминал\\n                                       триллер\\n\\n\\n\\n<b>Алита: Боевой ангел</b>\\n\\nРейтинг                 -     7.1\\nКол-во оценок     -     384 731\\nЖанр                      -     фантастика\\n                                       боевик\\n\\n\\n\\n<b>Довод</b>\\n\\nРейтинг                 -     7.6\\nКол-во оценок     -     384 056\\nЖанр                      -     фантастика\\n                                       боевик\\n\\n\\n\\n<b>Пираты Карибского моря: На краю света</b>\\n\\nРейтинг                 -     8.0\\nКол-во оценок     -     379 535\\nЖанр                      -     приключения\\n                                       боевик\\n\\n\\n\\n<b>Дэдпул 2</b>\\n\\nРейтинг                 -     7.4\\nКол-во оценок     -     376 298\\nЖанр                      -     фантастика\\n                                       боевик\\n\\n\\n\\n<b>Богемская рапсодия</b>\\n\\nРейтинг                 -     8.0\\nКол-во оценок     -     374 627\\nЖанр                      -     биография\\n                                       музыка\\n\\n\\n\\n<b>Корпорация монстров</b>\\n\\nРейтинг                 -     8.1\\nКол-во оценок     -     366 936\\nЖанр                      -     мультфильм\\n                                       фэнтези\\n\\n\\n\\n<b>Доктор Хаус</b>\\n\\nРейтинг                 -     8.8\\nКол-во оценок     -     365 427\\nЖанр                      -     драма\\n                                       детектив\\n\\n\\n\\n<b>Великий Гэтсби</b>\\n\\nРейтинг                 -     7.9\\nКол-во оценок     -     363 109\\nЖанр                      -     драма\\n                                       мелодрама\\n\n"
     ]
    }
   ],
   "source": [
    "def df_to_str(df):\n",
    "    df = df.set_index('name')\n",
    "    s = ''\n",
    "    for i in range(len(df)):\n",
    "        name = df.index[i]\n",
    "        s += '<b>' + str(name) + '</b>\\\\n\\\\n'\n",
    "        s += 'Рейтинг' + ' ' * 17 + '-' + ' ' * 5 + str(df.loc[name]['rating']) + '\\\\n'\n",
    "        s += 'Кол-во оценок     ' + '-' + ' ' * 5 + str(df.loc[name]['rating_count']) + '\\\\n'\n",
    "        genre_list = str(df.loc[name]['genre']).split(', ')\n",
    "        s += 'Жанр' + ' ' * 22 + '-' + ' ' * 5 + genre_list[0]\n",
    "        if len(genre_list) == 2:\n",
    "            s += '\\\\n' + ' ' * 39 + genre_list[1]\n",
    "        s += '\\\\n'\n",
    "        if i != len(df) - 1:\n",
    "            s += '\\\\n\\\\n\\\\n'\n",
    "    return(s)\n",
    "s = df_to_str(df)\n",
    "print(s)"
   ]
  },
  {
   "cell_type": "code",
   "execution_count": 134,
   "id": "7dbea80c",
   "metadata": {},
   "outputs": [
    {
     "name": "stdout",
     "output_type": "stream",
     "text": [
      "                                    name  date                  country  \\\n",
      "1                                Легенда  2015  Великобритания, Франция   \n",
      "2                    Алита: Боевой ангел  2019              США, Япония   \n",
      "3                                  Довод  2020      Великобритания, США   \n",
      "4  Пираты Карибского моря: На краю света  2007                      США   \n",
      "5                               Дэдпул 2  2018              США, Канада   \n",
      "6                     Богемская рапсодия  2018      Великобритания, США   \n",
      "7                    Корпорация монстров  2001                      США   \n",
      "8                            Доктор Хаус  2012                      США   \n",
      "\n",
      "                 genre  rating rating_count  \\\n",
      "1    криминал, триллер     7.2      387 786   \n",
      "2   фантастика, боевик     7.1      384 731   \n",
      "3   фантастика, боевик     7.6      384 056   \n",
      "4  приключения, боевик     8.0      379 535   \n",
      "5   фантастика, боевик     7.4      376 298   \n",
      "6    биография, музыка     8.0      374 627   \n",
      "7  мультфильм, фэнтези     8.1      366 936   \n",
      "8      драма, детектив     8.8      365 427   \n",
      "\n",
      "                                     link  audio  subtitles  description  \n",
      "1   https://www.kinopoisk.ru/film/839954/      0          0            0  \n",
      "2    https://www.kinopoisk.ru/film/88173/      0          0            0  \n",
      "3  https://www.kinopoisk.ru/film/1236063/      0          0            0  \n",
      "4   https://www.kinopoisk.ru/film/102124/      0          0            0  \n",
      "5   https://www.kinopoisk.ru/film/961715/      0          0            0  \n",
      "6   https://www.kinopoisk.ru/film/568289/      0          0            0  \n",
      "7      https://www.kinopoisk.ru/film/458/      0          0            0  \n",
      "8   https://www.kinopoisk.ru/film/178710/      0          0            0  \n"
     ]
    }
   ],
   "source": [
    "df.to_csv('csv_test.csv', index=False)\n",
    "df1 = pd.read_csv(\"csv_test.csv\")\n",
    "#s = df_to_str(df1)\n",
    "#print(df1)\n",
    "#df1 = df1.set_index('name')\n",
    "index = df1[df1['name'].isin(['Ford против Ferrari', 'Великий Гэтсби']) == False]\n",
    "#df1 = df1.drop(index)\n",
    "# print('\\n\\n')\n",
    "print(index)"
   ]
  }
 ],
 "metadata": {
  "kernelspec": {
   "display_name": "Python 3 (ipykernel)",
   "language": "python",
   "name": "python3"
  },
  "language_info": {
   "codemirror_mode": {
    "name": "ipython",
    "version": 3
   },
   "file_extension": ".py",
   "mimetype": "text/x-python",
   "name": "python",
   "nbconvert_exporter": "python",
   "pygments_lexer": "ipython3",
   "version": "3.9.7"
  }
 },
 "nbformat": 4,
 "nbformat_minor": 5
}
