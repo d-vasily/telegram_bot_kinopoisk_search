{
 "cells": [
  {
   "cell_type": "code",
   "execution_count": 11,
   "id": "65a5f28b",
   "metadata": {},
   "outputs": [],
   "source": [
    "import requests\n",
    "import re\n",
    "from random import randint\n",
    "from bs4 import BeautifulSoup\n",
    "import pandas as pd\n",
    "from selenium import webdriver"
   ]
  },
  {
   "cell_type": "code",
   "execution_count": 28,
   "id": "ad5001f5",
   "metadata": {},
   "outputs": [],
   "source": [
    "#def data_film(genre='',sort='', rating='', subscript='available_online', country='', kind=''(film/serial), page=''):\n",
    "def data_film(l):\n",
    "    l = l.split('| ')\n",
    "    url = f\"https://www.kinopoisk.ru/lists/navigator/{l[0]}/?sort={l[1]}&quick_filters=%2C{l[2]}%2C{l[3]}%2C{l[4]}%2C{l[5]}&tab=online&page={l[6]}\"\n",
    "    dr = webdriver.Chrome()\n",
    "    try:\n",
    "        dr.get(url)\n",
    "    except:\n",
    "        return ([])\n",
    "    print(url)\n",
    "    soup = BeautifulSoup(dr.page_source)\n",
    "    res = soup.find_all('div', {'class' :'desktop-seo-selection-film-item__upper-wrapper'})\n",
    "    return (res)"
   ]
  },
  {
   "cell_type": "code",
   "execution_count": 13,
   "id": "d9ac33dd",
   "metadata": {},
   "outputs": [],
   "source": [
    "def get_row(i, raw_data):\n",
    "    name = raw_data[i].find_all('p', {'class' : 'selection-film-item-meta__name'}, limit = 1)\n",
    "    if (len(name) > 0): name = name[0].text \n",
    "    else: return 0\n",
    "    \n",
    "    link = raw_data[i].find_all('a', {'class' : 'selection-film-item-meta__link'}, limit = 1)\n",
    "    if (len(link) > 0): link = 'https://www.kinopoisk.ru' + link[0].get('href') \n",
    "    else: return 0\n",
    "    \n",
    "    date = raw_data[i].find_all('p', {'class' : 'selection-film-item-meta__original-name'}, limit = 1)\n",
    "    if (len(date) > 0): date = date[0].text \n",
    "    else: return 0\n",
    "    \n",
    "    date = re.search(r'[\\d]{4}$', date)\n",
    "    if (date != None): date = date.group(0) \n",
    "    else: return 0\n",
    "    \n",
    "    x = raw_data[i].find_all('span', {'class' : 'selection-film-item-meta__meta-additional-item'}, limit = 2)\n",
    "    if (len(x) > 1): country = x[0].text; gen = x[1].text \n",
    "    else: return 0\n",
    "    \n",
    "    rating = raw_data[i].find_all('span', {'class' : r'rating__value rating__value_positive'}, limit = 1)\n",
    "    if (len(rating) == 0): rating = raw_data[i].find_all('span', {'class' : r'rating__value rating__value_neutral'}, limit = 1)\n",
    "    if (len(rating) > 0): rating = rating[0].text \n",
    "    else: return 0\n",
    "    \n",
    "    rating_count = raw_data[i].find_all('span', {'class' : 'rating__count'}, limit = 1)\n",
    "    if (len(rating_count) > 0): rating_count = rating_count[0].text \n",
    "    else: return 0\n",
    "    \n",
    "    return [name, date, country, gen, rating, rating_count, link]"
   ]
  },
  {
   "cell_type": "code",
   "execution_count": 14,
   "id": "cd904ab7",
   "metadata": {},
   "outputs": [],
   "source": [
    "def get_add_info(link):   \n",
    "    dr = webdriver.Chrome()\n",
    "    try:\n",
    "        dr.get(link)\n",
    "    except:\n",
    "        return([])\n",
    "    soup1 = BeautifulSoup(dr.page_source)\n",
    "    info = soup1.find_all('div', {'class' : 'styles_valueLight__1j0RO'}, limit = 2)\n",
    "    if (len(info) > 1): audio_track = info[0].text; subtitles = info[1].text\n",
    "    else: return 0\n",
    "    \n",
    "    description = soup1.find_all('p', {'class' : 'styles_paragraph__2Otvx'}, limit = 1)\n",
    "    if (len(description) > 0): description = description[0].text\n",
    "    else: return 0\n",
    "\n",
    "    return [audio_track, subtitles, description]"
   ]
  },
  {
   "cell_type": "code",
   "execution_count": 15,
   "id": "e7b7a998",
   "metadata": {},
   "outputs": [],
   "source": [
    "def get_ten(num, l):\n",
    "    l += str((num - 1) // 50 + 1)\n",
    "    num = (num - 1) % 50 \n",
    "    raw_data = data_film(l)\n",
    "    if (len(raw_data) == 0):\n",
    "        return (0)\n",
    "    df = pd.DataFrame(columns=['name','date','country','genre','rating','rating_count', 'link', 'audio', 'subtitles', 'description'])\n",
    "    max_ind = len(raw_data)\n",
    "    count = 0\n",
    "    while (num < max_ind and count < 10):\n",
    "        a = get_row(num , raw_data)\n",
    "        if (a):\n",
    "            a.extend([0, 0, 0])\n",
    "            df.loc[count] = a\n",
    "            count += 1\n",
    "        num += 1\n",
    "    return df    "
   ]
  },
  {
   "cell_type": "code",
   "execution_count": 62,
   "id": "b1bd3966",
   "metadata": {},
   "outputs": [],
   "source": [
    "#data_film(genre='',sort='', rating='', subscript='available_online', country='', kind=''(film/serial), page=''):\n",
    "genre = ['', 'anime', 'mystery', 'comedy', 'crime', 'adventure', 'family', 'thriller', 'horror', 'sci-fi', 'fantasy']\n",
    "sort = ['', 'popularity', 'year']\n",
    "rating = ['', 'high_rated']\n",
    "subscript= ['available_online', 'yandex_plus_subscription', 'kinopoisk_with_amediateka_subscription']\n",
    "country = ['', 'foreign', 'russian']\n",
    "kind = ['', 'films', 'serials']"
   ]
  },
  {
   "cell_type": "code",
   "execution_count": 29,
   "id": "32ff6e78",
   "metadata": {},
   "outputs": [
    {
     "name": "stdout",
     "output_type": "stream",
     "text": [
      "https://www.kinopoisk.ru/lists/navigator//?sort=&quick_filters=%2C%2Cyandex_plus_subscription%2Cforeign%2C&tab=online&page=2\n"
     ]
    }
   ],
   "source": [
    "#sort=year&quick_filters=films%2Cforeign%2Cyandex_plus_subscription\n",
    "search_param = '| | | yandex_plus_subscription| foreign| | '\n",
    "#{'genre': '', 'sort': 'year', 'rating': '', 'subscript': 'yandex_plus_subscription',\\\n",
    " #               'country': 'foreign', 'kind': 'films', 'page': ''}\n",
    "#data_film(genre='',sort='', rating='', subscript='available_online', country='', kind=''(film/serial), page=''):\n",
    "data_ten = get_ten(51, search_param)"
   ]
  },
  {
   "cell_type": "code",
   "execution_count": 30,
   "id": "b14a6981",
   "metadata": {},
   "outputs": [
    {
     "name": "stdout",
     "output_type": "stream",
     "text": [
      "['', '', '', 'yandex_plus_subscription', 'foreign', '', '']\n"
     ]
    }
   ],
   "source": [
    "s = '| | | yandex_plus_subscription| foreign| | '\n",
    "s = s.split('| ')\n",
    "print(s)"
   ]
  },
  {
   "cell_type": "code",
   "execution_count": 31,
   "id": "30f22b6f",
   "metadata": {
    "scrolled": true
   },
   "outputs": [
    {
     "name": "stdout",
     "output_type": "stream",
     "text": [
      "                                    name  date                  country  \\\n",
      "0                    Ford против Ferrari  2019                      США   \n",
      "1                                Легенда  2015  Великобритания, Франция   \n",
      "2                    Алита: Боевой ангел  2019              США, Япония   \n",
      "3                                  Довод  2020      Великобритания, США   \n",
      "4  Пираты Карибского моря: На краю света  2007                      США   \n",
      "5                               Дэдпул 2  2018              США, Канада   \n",
      "6                     Богемская рапсодия  2018      Великобритания, США   \n",
      "7                    Корпорация монстров  2001                      США   \n",
      "8                            Доктор Хаус  2012                      США   \n",
      "9                         Великий Гэтсби  2013           Австралия, США   \n",
      "\n",
      "                 genre rating rating_count  \\\n",
      "0     биография, спорт    8.2      397 341   \n",
      "1    криминал, триллер    7.2      387 375   \n",
      "2   фантастика, боевик    7.1      384 191   \n",
      "3   фантастика, боевик    7.6      382 677   \n",
      "4  приключения, боевик    8.0      379 074   \n",
      "5   фантастика, боевик    7.4      375 738   \n",
      "6    биография, музыка    8.0      373 455   \n",
      "7  мультфильм, фэнтези    8.1      366 442   \n",
      "8      драма, детектив    8.8      364 927   \n",
      "9     драма, мелодрама    7.9      362 627   \n",
      "\n",
      "                                     link audio subtitles description  \n",
      "0   https://www.kinopoisk.ru/film/835086/     0         0           0  \n",
      "1   https://www.kinopoisk.ru/film/839954/     0         0           0  \n",
      "2    https://www.kinopoisk.ru/film/88173/     0         0           0  \n",
      "3  https://www.kinopoisk.ru/film/1236063/     0         0           0  \n",
      "4   https://www.kinopoisk.ru/film/102124/     0         0           0  \n",
      "5   https://www.kinopoisk.ru/film/961715/     0         0           0  \n",
      "6   https://www.kinopoisk.ru/film/568289/     0         0           0  \n",
      "7      https://www.kinopoisk.ru/film/458/     0         0           0  \n",
      "8   https://www.kinopoisk.ru/film/178710/     0         0           0  \n",
      "9   https://www.kinopoisk.ru/film/463724/     0         0           0  \n"
     ]
    }
   ],
   "source": [
    "print(data_ten)"
   ]
  },
  {
   "cell_type": "code",
   "execution_count": 78,
   "id": "a3afbcb6",
   "metadata": {},
   "outputs": [
    {
     "name": "stdout",
     "output_type": "stream",
     "text": [
      "name                                          Не входи\n",
      "date                                              2020\n",
      "country                                 Великобритания\n",
      "genre                                триллер, криминал\n",
      "rating                                             5.3\n",
      "rating_count                                    12 123\n",
      "link            https://www.kinopoisk.ru/film/1251292/\n",
      "audio                                              ads\n",
      "subtitles                                            0\n",
      "description                                          0\n",
      "Name: 0, dtype: object\n"
     ]
    }
   ],
   "source": [
    "#df2 = df[df.name == '1+1']\n",
    "df.loc[0]['audio'] = 'ads'\n",
    "print(df.iloc[0])\n",
    "#lst = get_add_info(df.loc[0]['link'])]"
   ]
  },
  {
   "cell_type": "code",
   "execution_count": 18,
   "id": "0f899935",
   "metadata": {},
   "outputs": [
    {
     "name": "stdout",
     "output_type": "stream",
     "text": [
      "True\n"
     ]
    }
   ],
   "source": [
    "print('sss' == 'sss')"
   ]
  }
 ],
 "metadata": {
  "kernelspec": {
   "display_name": "Python 3 (ipykernel)",
   "language": "python",
   "name": "python3"
  },
  "language_info": {
   "codemirror_mode": {
    "name": "ipython",
    "version": 3
   },
   "file_extension": ".py",
   "mimetype": "text/x-python",
   "name": "python",
   "nbconvert_exporter": "python",
   "pygments_lexer": "ipython3",
   "version": "3.9.7"
  }
 },
 "nbformat": 4,
 "nbformat_minor": 5
}
