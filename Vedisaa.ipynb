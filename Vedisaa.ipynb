{
 "cells": [
  {
   "cell_type": "code",
   "execution_count": 68,
   "id": "d52680e6",
   "metadata": {},
   "outputs": [],
   "source": [
    "!jt -t onedork"
   ]
  },
  {
   "cell_type": "code",
   "execution_count": 4,
   "id": "c892abe4",
   "metadata": {},
   "outputs": [],
   "source": [
    "from vedis import Vedis as vd"
   ]
  },
  {
   "cell_type": "code",
   "execution_count": 53,
   "id": "51b2a161",
   "metadata": {},
   "outputs": [],
   "source": [
    "with vd('file.vdb') as db:\n",
    "        try:\n",
    "            db['a'] = 'asdf/adfs  /saf'\n",
    "        except:\n",
    "            print('no')"
   ]
  },
  {
   "cell_type": "code",
   "execution_count": 54,
   "id": "cf04c865",
   "metadata": {},
   "outputs": [
    {
     "name": "stdout",
     "output_type": "stream",
     "text": [
      "{'adfs  ', 'asdf', 'saf'}\n"
     ]
    }
   ],
   "source": [
    "# with vd('file.vdb') as db:\n",
    "#         try:\n",
    "#             s = db['a'].decode()\n",
    "            \n",
    "#         except:\n",
    "#             print('no')\n",
    "\n",
    "s = 'asdf/adfs  /saf'\n",
    "l = set(s.split('/'))\n",
    "print(l)"
   ]
  },
  {
   "cell_type": "code",
   "execution_count": 56,
   "id": "87bfc0c4",
   "metadata": {},
   "outputs": [
    {
     "name": "stdout",
     "output_type": "stream",
     "text": [
      "adfs  /saf\n"
     ]
    }
   ],
   "source": [
    "l.remove('asdf')\n",
    "s1 = '/'.join(l)\n",
    "print(s1)"
   ]
  }
 ],
 "metadata": {
  "kernelspec": {
   "display_name": "Python 3 (ipykernel)",
   "language": "python",
   "name": "python3"
  },
  "language_info": {
   "codemirror_mode": {
    "name": "ipython",
    "version": 3
   },
   "file_extension": ".py",
   "mimetype": "text/x-python",
   "name": "python",
   "nbconvert_exporter": "python",
   "pygments_lexer": "ipython3",
   "version": "3.9.7"
  }
 },
 "nbformat": 4,
 "nbformat_minor": 5
}
