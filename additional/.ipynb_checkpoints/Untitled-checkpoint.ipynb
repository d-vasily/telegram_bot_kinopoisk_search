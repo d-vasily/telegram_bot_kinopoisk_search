{
 "cells": [
  {
   "cell_type": "code",
   "execution_count": 1,
   "id": "b20ad5cd",
   "metadata": {},
   "outputs": [],
   "source": [
    "from bs4 import BeautifulSoup as bs\n",
    "import pandas as pd\n",
    "import requests"
   ]
  },
  {
   "cell_type": "code",
   "execution_count": null,
   "id": "ea16691c",
   "metadata": {},
   "outputs": [],
   "source": [
    "url1 = \"https://free-proxy-list.net/\"\n",
    "    # посылаем HTTP запрос и создаем soup объект\n",
    "soup = bs(requests.get(url1).content, \"html.parser\")"
   ]
  },
  {
   "cell_type": "code",
   "execution_count": null,
   "id": "3fc451ac",
   "metadata": {},
   "outputs": [],
   "source": [
    "def get_free_proxies():\n",
    "    url1 = \"https://free-proxy-list.net/\"\n",
    "    # посылаем HTTP запрос и создаем soup объект\n",
    "    soup = bs(requests.get(url1).content, \"html.parser\")\n",
    "    proxies = []\n",
    "    i = 0\n",
    "    print('in get free proxies')\n",
    "    proxylisttable = soup.find(\"table\", attrs={\"id\": \"proxylisttable\"}).find_all(\"tr\")[1:]\n",
    "    for row in proxylisttable:\n",
    "        print(i)\n",
    "        i += 1\n",
    "        if i > 100:\n",
    "            print('proxies 100')\n",
    "            break\n",
    "        tds = row.find_all(\"td\")\n",
    "        try:\n",
    "            ip = tds[0].text.strip()\n",
    "            port = tds[1].text.strip()\n",
    "            host = f\"{ip}:{port}\"\n",
    "            proxies.append(host)\n",
    "        except IndexError:\n",
    "            continue\n",
    "    return proxies"
   ]
  }
 ],
 "metadata": {
  "kernelspec": {
   "display_name": "Python 3 (ipykernel)",
   "language": "python",
   "name": "python3"
  },
  "language_info": {
   "codemirror_mode": {
    "name": "ipython",
    "version": 3
   },
   "file_extension": ".py",
   "mimetype": "text/x-python",
   "name": "python",
   "nbconvert_exporter": "python",
   "pygments_lexer": "ipython3",
   "version": "3.9.7"
  }
 },
 "nbformat": 4,
 "nbformat_minor": 5
}
